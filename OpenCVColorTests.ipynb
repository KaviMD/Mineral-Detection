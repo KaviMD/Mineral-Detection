{
 "cells": [
  {
   "cell_type": "code",
   "execution_count": 28,
   "metadata": {
    "scrolled": false
   },
   "outputs": [
    {
     "name": "stdout",
     "output_type": "stream",
     "text": [
      "21505.463079991514\n",
      "There is a mineral in this image\n",
      "(500, 500)\n",
      "1.117762491818404\n",
      "24038\n",
      "250000\n"
     ]
    },
    {
     "data": {
      "image/png": "[encoded data removed]",
      "text/plain": [
       "<Figure size 432x288 with 1 Axes>"
      ]
     },
     "metadata": {
      "needs_background": "light"
     },
     "output_type": "display_data"
    }
   ],
   "source": [
    "import cv2\n",
    "from matplotlib import pyplot as plt\n",
    "import math\n",
    "\n",
    "img = cv2.imread(\"data_files/0001.png\")\n",
    "#print(img.shape)\n",
    "dist = 103.421177\n",
    "x = 1945\n",
    "y = 1396\n",
    "size = 500\n",
    "cube = img[int(x-(size/2)):int(x+(size/2)), int(y-(size/2)):int(y+(size/2))]\n",
    "cube_rgb = cv2.cvtColor(cube, cv2.COLOR_BGR2RGB)\n",
    "cv_rgb = cv2.cvtColor(img, cv2.COLOR_BGR2RGB)\n",
    "hsv = cv2.cvtColor(cube, cv2.COLOR_BGR2HSV)\n",
    "mask = cv2.inRange(hsv,(15, 0, 0), (60, 255, 255))\n",
    "#print(type(mask))\n",
    "#print(type(img))\n",
    "crop_shp = mask.shape\n",
    "cntr = 0\n",
    "for i in range(0,crop_shp[0]):\n",
    "    for j in range(0,crop_shp[1]):\n",
    "        if (mask[i][j] > 0 ):\n",
    "            cntr = cntr + 1\n",
    "\n",
    "min_pixels = (((dist*1.6)/2)**2)*math.pi\n",
    "print(min_pixels)\n",
    "if cntr/min_pixels > 0.5:\n",
    "    print(\"There is a mineral in this image\")\n",
    "plt.imshow(mask)\n",
    "\n",
    "print(mask.shape)\n",
    "print(cntr/min_pixels)\n",
    "print(cntr)\n",
    "print(mask.size)"
   ]
  },
  {
   "cell_type": "code",
   "execution_count": 24,
   "metadata": {},
   "outputs": [
    {
     "data": {
      "text/plain": [
       "145"
      ]
     },
     "execution_count": 24,
     "metadata": {},
     "output_type": "execute_result"
    }
   ],
   "source": [
    "160"
   ]
  }
 ],
 "metadata": {
  "kernelspec": {
   "display_name": "Python 3",
   "language": "python",
   "name": "python3"
  },
  "language_info": {
   "codemirror_mode": {
    "name": "ipython",
    "version": 3
   },
   "file_extension": ".py",
   "mimetype": "text/x-python",
   "name": "python",
   "nbconvert_exporter": "python",
   "pygments_lexer": "ipython3",
   "version": "3.7.1"
  }
 },
 "nbformat": 4,
 "nbformat_minor": 2
}
